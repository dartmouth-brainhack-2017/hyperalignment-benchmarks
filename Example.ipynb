{
 "cells": [
  {
   "cell_type": "code",
   "execution_count": 3,
   "metadata": {
    "collapsed": false
   },
   "outputs": [],
   "source": [
    "from mvpa2.suite import *\n",
    "verbose.level = 2"
   ]
  },
  {
   "cell_type": "markdown",
   "metadata": {},
   "source": [
    "### Path to tutorial data"
   ]
  },
  {
   "cell_type": "code",
   "execution_count": 4,
   "metadata": {
    "collapsed": false
   },
   "outputs": [
    {
     "name": "stdout",
     "output_type": "stream",
     "text": [
      " Loading data...\n"
     ]
    }
   ],
   "source": [
    "# put your filepath in here!\n",
    "filepath = '/Users/vassiki/Desktop/brainhack'\n",
    "\n",
    "verbose(1, \"Loading data...\")\n",
    "filename = 'hyperalignment_tutorial_data_2.4.hdf5.gz'\n",
    "fn = os.path.join(filepath,filename)\n",
    "ds_all = h5load(fn)"
   ]
  },
  {
   "cell_type": "code",
   "execution_count": 20,
   "metadata": {
    "collapsed": false
   },
   "outputs": [
    {
     "data": {
      "text/plain": [
       "list"
      ]
     },
     "execution_count": 20,
     "metadata": {},
     "output_type": "execute_result"
    }
   ],
   "source": [
    "type(ds_all)"
   ]
  },
  {
   "cell_type": "markdown",
   "metadata": {},
   "source": [
    "### Load and describe data"
   ]
  },
  {
   "cell_type": "code",
   "execution_count": 5,
   "metadata": {
    "collapsed": false
   },
   "outputs": [
    {
     "name": "stdout",
     "output_type": "stream",
     "text": [
      "  10 subjects\n",
      "  Per-subject dataset: 56 samples with 3509 features\n",
      "  Stimulus categories: Chair, DogFace, FemaleFace, House, MaleFace, MonkeyFace, Shoe\n"
     ]
    }
   ],
   "source": [
    "# zscore all datasets individually\n",
    "_ = [zscore(ds) for ds in ds_all]\n",
    "# inject the subject ID into all datasets\n",
    "for i, sd in enumerate(ds_all):\n",
    "    sd.sa['subject'] = np.repeat(i, len(sd))\n",
    "# number of subjects\n",
    "nsubjs = len(ds_all)\n",
    "# number of categories\n",
    "ncats = len(ds_all[0].UT)\n",
    "# number of run\n",
    "nruns = len(ds_all[0].UC)\n",
    "verbose(2, \"%d subjects\" % len(ds_all))\n",
    "verbose(2, \"Per-subject dataset: %i samples with %i features\" % ds_all[0].shape)\n",
    "verbose(2, \"Stimulus categories: %s\" % ', '.join(ds_all[0].UT))"
   ]
  },
  {
   "cell_type": "markdown",
   "metadata": {},
   "source": [
    "### Linear SVM, feature selection with one-way ANOVA"
   ]
  },
  {
   "cell_type": "code",
   "execution_count": 6,
   "metadata": {
    "collapsed": true
   },
   "outputs": [],
   "source": [
    "clf = LinearCSVMC()\n",
    "\n",
    "# feature selection helpers\n",
    "nf = 100\n",
    "fselector = FixedNElementTailSelector(nf, tail='upper',\n",
    "                                      mode='select', sort=False)\n",
    "sbfs = SensitivityBasedFeatureSelection(OneWayAnova(), fselector,\n",
    "                                        enable_ca=['sensitivities'])\n",
    "# create classifier with automatic feature selection\n",
    "fsclf = FeatureSelectionClassifier(clf, sbfs)"
   ]
  },
  {
   "cell_type": "markdown",
   "metadata": {},
   "source": [
    "### Within subject classification, leave one run out CV"
   ]
  },
  {
   "cell_type": "code",
   "execution_count": 7,
   "metadata": {
    "collapsed": false
   },
   "outputs": [
    {
     "name": "stdout",
     "output_type": "stream",
     "text": [
      " Performing classification analyses...\n",
      "  within-subject... done in 1.7 seconds\n"
     ]
    }
   ],
   "source": [
    "verbose(1, \"Performing classification analyses...\")\n",
    "verbose(2, \"within-subject...\", cr=False, lf=False)\n",
    "wsc_start_time = time.time()\n",
    "cv = CrossValidation(fsclf,\n",
    "                     NFoldPartitioner(attr='chunks'),\n",
    "                     errorfx=mean_match_accuracy)\n",
    "# store results in a sequence\n",
    "wsc_results = [cv(sd) for sd in ds_all]\n",
    "wsc_results = vstack(wsc_results)\n",
    "verbose(2, \" done in %.1f seconds\" % (time.time() - wsc_start_time,))"
   ]
  },
  {
   "cell_type": "markdown",
   "metadata": {},
   "source": [
    "### Between subject classification, anatomically aligned"
   ]
  },
  {
   "cell_type": "code",
   "execution_count": 8,
   "metadata": {
    "collapsed": false
   },
   "outputs": [
    {
     "name": "stdout",
     "output_type": "stream",
     "text": [
      "  between-subject (anatomically aligned)...done in 0.8 seconds\n"
     ]
    }
   ],
   "source": [
    "verbose(2, \"between-subject (anatomically aligned)...\", cr=False, lf=False)\n",
    "ds_mni = vstack(ds_all)\n",
    "mni_start_time = time.time()\n",
    "cv = CrossValidation(fsclf,\n",
    "                     NFoldPartitioner(attr='subject'),\n",
    "                     errorfx=mean_match_accuracy)\n",
    "bsc_mni_results = cv(ds_mni)\n",
    "verbose(2, \"done in %.1f seconds\" % (time.time() - mni_start_time,))"
   ]
  },
  {
   "cell_type": "markdown",
   "metadata": {},
   "source": [
    "### Hyperalignment!!! "
   ]
  },
  {
   "cell_type": "code",
   "execution_count": 9,
   "metadata": {
    "collapsed": false
   },
   "outputs": [
    {
     "name": "stdout",
     "output_type": "stream",
     "text": [
      "  between-subject (hyperaligned)...done in 3.6 seconds\n"
     ]
    }
   ],
   "source": [
    "verbose(2, \"between-subject (hyperaligned)...\", cr=False, lf=False)\n",
    "hyper_start_time = time.time()\n",
    "bsc_hyper_results = []\n",
    "# same cross-validation over subjects as before\n",
    "cv = CrossValidation(clf, NFoldPartitioner(attr='subject'),\n",
    "                     errorfx=mean_match_accuracy)\n",
    "\n",
    "# leave-one-run-out for hyperalignment training\n",
    "for test_run in range(nruns):\n",
    "    # split in training and testing set\n",
    "    ds_train = [sd[sd.sa.chunks != test_run, :] for sd in ds_all]\n",
    "    ds_test = [sd[sd.sa.chunks == test_run, :] for sd in ds_all]\n",
    "\n",
    "    # manual feature selection for every individual dataset in the list\n",
    "    anova = OneWayAnova()\n",
    "    fscores = [anova(sd) for sd in ds_train]\n",
    "    featsels = [StaticFeatureSelection(fselector(fscore)) for fscore in fscores]\n",
    "    ds_train_fs = [fs.forward(sd) for fs, sd in zip(featsels, ds_train)]\n",
    "\n",
    "\n",
    "    # Perform hyperalignment on the training data with default parameters.\n",
    "    # Computing hyperalignment parameters is as simple as calling the\n",
    "    # hyperalignment object with a list of datasets. All datasets must have the\n",
    "    # same number of samples and time-locked responses are assumed.\n",
    "    # Hyperalignment returns a list of mappers corresponding to subjects in the\n",
    "    # same order as the list of datasets we passed in.\n",
    "\n",
    "\n",
    "    hyper = Hyperalignment()\n",
    "    hypmaps = hyper(ds_train_fs)\n",
    "\n",
    "    # Applying hyperalignment parameters is similar to applying any mapper in\n",
    "    # PyMVPA. We start by selecting the voxels that we used to derive the\n",
    "    # hyperalignment parameters. And then apply the hyperalignment parameters\n",
    "    # by running the test dataset through the forward() function of the mapper.\n",
    "\n",
    "    ds_test_fs = [fs.forward(sd) for fs, sd in zip(featsels, ds_test)]\n",
    "    ds_hyper = [h.forward(sd) for h, sd in zip(hypmaps, ds_test_fs)]\n",
    "\n",
    "    # Now, we have a list of datasets with feature correspondence in a common\n",
    "    # space derived from the training data. Just as in the between-subject\n",
    "    # analyses of anatomically aligned data we can stack them all up and run the\n",
    "    # crossvalidation analysis.\n",
    "\n",
    "    ds_hyper = vstack(ds_hyper)\n",
    "    # zscore each subject individually after transformation for optimal\n",
    "    # performance\n",
    "    zscore(ds_hyper, chunks_attr='subject')\n",
    "    res_cv = cv(ds_hyper)\n",
    "    bsc_hyper_results.append(res_cv)\n",
    "\n",
    "bsc_hyper_results = hstack(bsc_hyper_results)\n",
    "verbose(2, \"done in %.1f seconds\" % (time.time() - hyper_start_time,))"
   ]
  },
  {
   "cell_type": "markdown",
   "metadata": {},
   "source": [
    "### Performance Comparison"
   ]
  },
  {
   "cell_type": "code",
   "execution_count": 10,
   "metadata": {
    "collapsed": false
   },
   "outputs": [
    {
     "name": "stdout",
     "output_type": "stream",
     "text": [
      " Average classification accuracies:\n",
      "  within-subject: 0.57 +/-0.063\n",
      "  between-subject (anatomically aligned): 0.42 +/-0.035\n",
      "  between-subject (hyperaligned): 0.63 +/-0.046\n"
     ]
    }
   ],
   "source": [
    "verbose(1, \"Average classification accuracies:\")\n",
    "verbose(2, \"within-subject: %.2f +/-%.3f\"\n",
    "        % (np.mean(wsc_results),\n",
    "           np.std(wsc_results) / np.sqrt(nsubjs - 1)))\n",
    "verbose(2, \"between-subject (anatomically aligned): %.2f +/-%.3f\"\n",
    "        % (np.mean(bsc_mni_results),\n",
    "           np.std(np.mean(bsc_mni_results, axis=1)) / np.sqrt(nsubjs - 1)))\n",
    "verbose(2, \"between-subject (hyperaligned): %.2f +/-%.3f\" \\\n",
    "        % (np.mean(bsc_hyper_results),\n",
    "           np.std(np.mean(bsc_hyper_results, axis=1)) / np.sqrt(nsubjs - 1)))"
   ]
  },
  {
   "cell_type": "markdown",
   "metadata": {},
   "source": [
    "### Exploring similarity structures"
   ]
  },
  {
   "cell_type": "code",
   "execution_count": 11,
   "metadata": {
    "collapsed": true
   },
   "outputs": [],
   "source": [
    "# feature selection as above\n",
    "anova = OneWayAnova()\n",
    "fscores = [anova(sd) for sd in ds_all]\n",
    "fscores = np.mean(np.asarray(vstack(fscores)), axis=0)\n",
    "# apply to full datasets\n",
    "ds_fs = [sd[:, fselector(fscores)] for sd in ds_all]\n",
    "#run hyperalignment on full datasets\n",
    "hyper = Hyperalignment()\n",
    "mappers = hyper(ds_fs)\n",
    "ds_hyper = [m.forward(ds_) for m, ds_ in zip(mappers, ds_fs)]\n",
    "# similarity of original data samples\n",
    "sm_orig = [np.corrcoef(\n",
    "               sd.get_mapped(\n",
    "                   mean_group_sample(['targets'])).samples)\n",
    "                       for sd in ds_fs]\n",
    "# mean across subjects\n",
    "sm_orig_mean = np.mean(sm_orig, axis=0)\n",
    "# same individual average but this time for hyperaligned data\n",
    "sm_hyper_mean = np.mean(\n",
    "    [np.corrcoef(\n",
    "        sd.get_mapped(mean_group_sample(['targets'])).samples)\n",
    "     for sd in ds_hyper],\n",
    "    axis=0)\n",
    "# similarity for averaged hyperaligned data\n",
    "ds_hyper = vstack(ds_hyper)\n",
    "sm_hyper = np.corrcoef(ds_hyper.get_mapped(mean_group_sample(['targets'])))\n",
    "# similarity for averaged anatomically aligned data\n",
    "ds_fs = vstack(ds_fs)\n",
    "sm_anat = np.corrcoef(ds_fs.get_mapped(mean_group_sample(['targets'])))"
   ]
  },
  {
   "cell_type": "code",
   "execution_count": 13,
   "metadata": {
    "collapsed": true
   },
   "outputs": [],
   "source": [
    "%matplotlib inline"
   ]
  },
  {
   "cell_type": "code",
   "execution_count": 14,
   "metadata": {
    "collapsed": false
   },
   "outputs": [
    {
     "data": {
      "image/png": "[encoded data removed]",
      "text/plain": [
       "<matplotlib.figure.Figure at 0x11b439dd0>"
      ]
     },
     "metadata": {},
     "output_type": "display_data"
    }
   ],
   "source": [
    "intended_label_order = [2, 4, 1, 5, 3, 0, 6]\n",
    "labels = ds_all[0].UT\n",
    "labels = labels[intended_label_order]\n",
    "\n",
    "pl.figure(figsize=(6, 6))\n",
    "# plot all three similarity structures\n",
    "for i, sm_t in enumerate((\n",
    "    (sm_orig_mean, \"Average within-subject\\nsimilarity\"),\n",
    "    (sm_anat, \"Similarity of group average\\ndata (anatomically aligned)\"),\n",
    "    (sm_hyper_mean, \"Average within-subject\\nsimilarity (hyperaligned data)\"),\n",
    "    (sm_hyper, \"Similarity of group average\\ndata (hyperaligned)\"),\n",
    "    )):\n",
    "    sm, title = sm_t\n",
    "    # reorder matrix columns to match label order\n",
    "    sm = sm[intended_label_order][:, intended_label_order]\n",
    "    pl.subplot(2, 2, i + 1)\n",
    "    pl.imshow(sm, vmin=-1.0, vmax=1.0, interpolation='nearest')\n",
    "    pl.colorbar(shrink=.4, ticks=[-1, 0, 1])\n",
    "    pl.title(title, size=12)\n",
    "    ylim = pl.ylim()\n",
    "    pl.xticks(range(ncats), labels, size='small', stretch='ultra-condensed',\n",
    "              rotation=45)\n",
    "    pl.yticks(range(ncats), labels, size='small', stretch='ultra-condensed',\n",
    "              rotation=45)\n",
    "    pl.ylim(ylim)"
   ]
  },
  {
   "cell_type": "markdown",
   "metadata": {},
   "source": [
    "### Regularized Hyperalignment"
   ]
  },
  {
   "cell_type": "code",
   "execution_count": 15,
   "metadata": {
    "collapsed": false
   },
   "outputs": [
    {
     "name": "stdout",
     "output_type": "stream",
     "text": [
      "WARNING: Reverting choice of svd for ProcrusteanMapper to be default 'numpy' since liblapack.so seems not to be available for 'dgesvd'\n",
      " * Please note: warnings are printed only once, but underlying problem might occur many times *\n"
     ]
    }
   ],
   "source": [
    "alpha_levels = np.concatenate((np.linspace(0.0, 0.7, 8),\n",
    "                               np.linspace(0.8, 1.0, 5)))\n",
    "# to collect the results for later visualization\n",
    "bsc_hyper_results = np.zeros((nsubjs, len(alpha_levels), nruns))\n",
    "# same cross-validation over subjects as before\n",
    "cv = CrossValidation(clf, NFoldPartitioner(attr='subject'),\n",
    "                     errorfx=mean_match_accuracy)\n",
    "\n",
    "# leave-one-run-out for hyperalignment training\n",
    "for test_run in range(nruns):\n",
    "    # split in training and testing set\n",
    "    ds_train = [sd[sd.sa.chunks != test_run, :] for sd in ds_all]\n",
    "    ds_test = [sd[sd.sa.chunks == test_run, :] for sd in ds_all]\n",
    "\n",
    "    # manual feature selection for every individual dataset in the list\n",
    "    anova = OneWayAnova()\n",
    "    fscores = [anova(sd) for sd in ds_train]\n",
    "    featsels = [StaticFeatureSelection(fselector(fscore)) for fscore in fscores]\n",
    "    ds_train_fs = [featsels[i].forward(sd) for i, sd in enumerate(ds_train)]\n",
    "\n",
    "    for alpha_level, alpha in enumerate(alpha_levels):\n",
    "        hyper = Hyperalignment(alignment=ProcrusteanMapper(svd='dgesvd',\n",
    "                                                           space='commonspace'),\n",
    "                               alpha=alpha)\n",
    "        hypmaps = hyper(ds_train_fs)\n",
    "        ds_test_fs = [fs.forward(sd) for fs, sd in zip(featsels, ds_test)]\n",
    "        ds_hyper = [h.forward(sd) for h, sd in zip(hypmaps, ds_test_fs)]\n",
    "        ds_hyper = vstack(ds_hyper)\n",
    "        zscore(ds_hyper, chunks_attr='subject')\n",
    "        res_cv = cv(ds_hyper)\n",
    "        bsc_hyper_results[:, alpha_level, test_run] = res_cv.samples.T"
   ]
  },
  {
   "cell_type": "code",
   "execution_count": 16,
   "metadata": {
    "collapsed": false
   },
   "outputs": [
    {
     "data": {
      "text/plain": [
       "<matplotlib.text.Text at 0x120866f50>"
      ]
     },
     "execution_count": 16,
     "metadata": {},
     "output_type": "execute_result"
    },
    {
     "data": {
      "image/png": "[encoded data removed]",
      "text/plain": [
       "<matplotlib.figure.Figure at 0x1209bd710>"
      ]
     },
     "metadata": {},
     "output_type": "display_data"
    }
   ],
   "source": [
    "bsc_hyper_results = np.mean(bsc_hyper_results, axis=2)\n",
    "pl.figure()\n",
    "plot_err_line(bsc_hyper_results, alpha_levels)\n",
    "pl.xlabel('Regularization parameter: alpha')\n",
    "pl.ylabel('Average BSC using hyperalignment +/- SEM')\n",
    "pl.title('Using regularized hyperalignment with varying alpha values')"
   ]
  },
  {
   "cell_type": "markdown",
   "metadata": {},
   "source": [
    "### Searchlight Hyperalignment"
   ]
  },
  {
   "cell_type": "code",
   "execution_count": 17,
   "metadata": {
    "collapsed": false
   },
   "outputs": [
    {
     "name": "stdout",
     "output_type": "stream",
     "text": [
      " Performing classification analyses...\n",
      "  between-subject (searchlight hyperaligned)...WARNING: Using 0th dataset as the reference dataset (0th after excluding datasets)\n",
      "done in 316.3 seconds\n"
     ]
    }
   ],
   "source": [
    "verbose(1, \"Performing classification analyses...\")\n",
    "verbose(2, \"between-subject (searchlight hyperaligned)...\", cr=False, lf=False)\n",
    "# feature selection helpers\n",
    "slhyper_start_time = time.time()\n",
    "bsc_slhyper_results = []\n",
    "# same cross-validation over subjects as before\n",
    "cv = CrossValidation(clf, NFoldPartitioner(attr='subject'),\n",
    "                     errorfx=mean_match_accuracy)\n",
    "\n",
    "# leave-one-run-out for hyperalignment training\n",
    "for test_run in range(nruns):\n",
    "    # split in training and testing set\n",
    "    ds_train = [sd[sd.sa.chunks != test_run, :] for sd in ds_all]\n",
    "    ds_test = [sd[sd.sa.chunks == test_run, :] for sd in ds_all]\n",
    "\n",
    "    # Initializing Searchlight Hyperalignment with Sphere searchlights of 3 voxel radius.\n",
    "    # Using 40% features in each SL and spacing centers at 3-voxels distance.\n",
    "    slhyper = SearchlightHyperalignment(radius=3, featsel=0.4, sparse_radius=3)\n",
    "\n",
    "    # Performing searchlight hyperalignment on training data.\n",
    "    # This step is similar to regular hyperalignment, calling\n",
    "    # the searchlight hyperalignment object with a list of datasets.\n",
    "    # Searchlight Hyperalignment returns a list of mappers corresponding to\n",
    "    # subjects in the same order as the list of datasets we passed in.\n",
    "    slhypmaps = slhyper(ds_train)\n",
    "\n",
    "    # Applying hyperalignment parameters is similar to applying any mapper in\n",
    "    # PyMVPA. We apply the hyperalignment parameters by running the test dataset\n",
    "    # through the forward() function of the mapper.\n",
    "    ds_hyper = [h.forward(sd) for h, sd in zip(slhypmaps, ds_test)]\n",
    "\n",
    "    # Running between-subject classification as before.\n",
    "    ds_hyper = vstack(ds_hyper)\n",
    "    zscore(ds_hyper, chunks_attr='subject')\n",
    "    res_cv = cv(ds_hyper)\n",
    "    bsc_slhyper_results.append(res_cv)\n",
    "\n",
    "bsc_slhyper_results = hstack(bsc_slhyper_results)\n",
    "verbose(2, \"done in %.1f seconds\" % (time.time() - slhyper_start_time,))"
   ]
  },
  {
   "cell_type": "markdown",
   "metadata": {},
   "source": [
    "### Compare Performance"
   ]
  },
  {
   "cell_type": "code",
   "execution_count": 18,
   "metadata": {
    "collapsed": false
   },
   "outputs": [
    {
     "name": "stdout",
     "output_type": "stream",
     "text": [
      " Average classification accuracies:\n",
      "  between-subject (searchlight hyperaligned): 0.60 +/-0.032\n"
     ]
    }
   ],
   "source": [
    "verbose(1, \"Average classification accuracies:\")\n",
    "verbose(2, \"between-subject (searchlight hyperaligned): %.2f +/-%.3f\" \\\n",
    "        % (np.mean(bsc_slhyper_results),\n",
    "           np.std(np.mean(bsc_slhyper_results, axis=1)) / np.sqrt(nsubjs - 1)))"
   ]
  }
 ],
 "metadata": {
  "kernelspec": {
   "display_name": "Python 2",
   "language": "python",
   "name": "python2"
  },
  "language_info": {
   "codemirror_mode": {
    "name": "ipython",
    "version": 2
   },
   "file_extension": ".py",
   "mimetype": "text/x-python",
   "name": "python",
   "nbconvert_exporter": "python",
   "pygments_lexer": "ipython2",
   "version": "2.7.13"
  }
 },
 "nbformat": 4,
 "nbformat_minor": 0
}
